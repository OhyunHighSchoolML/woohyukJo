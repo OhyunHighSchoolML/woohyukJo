{
  "nbformat": 4,
  "nbformat_minor": 0,
  "metadata": {
    "colab": {
      "name": "ICT.ipynb",
      "provenance": []
    },
    "kernelspec": {
      "name": "python3",
      "display_name": "Python 3"
    }
  },
  "cells": [
    {
      "cell_type": "code",
      "metadata": {
        "id": "YxFlxh5eEMSg",
        "colab_type": "code",
        "colab": {}
      },
      "source": [
        "import numpy as np\n",
        "import pandas as pd\n",
        "import matplotlib.pyplot as plt\n",
        "import seaborn as sns\n",
        "%matplotlib inline"
      ],
      "execution_count": 8,
      "outputs": []
    },
    {
      "cell_type": "code",
      "metadata": {
        "id": "Dy5HX4sLGC9W",
        "colab_type": "code",
        "colab": {}
      },
      "source": [
        "df= pd.read_excel('/content/bus.xlsx')\n",
        "df2 = pd.read_excel('/content/hanla.xlsx')\n",
        "df3 = pd.read_csv('/content/hadoop.csv')"
      ],
      "execution_count": 79,
      "outputs": []
    },
    {
      "cell_type": "code",
      "metadata": {
        "id": "T4e-LKpZQlEy",
        "colab_type": "code",
        "colab": {}
      },
      "source": [
        ""
      ],
      "execution_count": null,
      "outputs": []
    },
    {
      "cell_type": "code",
      "metadata": {
        "id": "G8NB2C9_GiEF",
        "colab_type": "code",
        "colab": {}
      },
      "source": [
        "plt.scatter(df1['경도'],df1['위도'])\n",
        "df[df['정류소명'] == '(구)중앙파출소']\n",
        "df.head(20)"
      ],
      "execution_count": null,
      "outputs": []
    },
    {
      "cell_type": "code",
      "metadata": {
        "id": "raaKIOX7G13t",
        "colab_type": "code",
        "colab": {}
      },
      "source": [
        "df2"
      ],
      "execution_count": null,
      "outputs": []
    },
    {
      "cell_type": "code",
      "metadata": {
        "id": "Po_jHxorHsOT",
        "colab_type": "code",
        "colab": {}
      },
      "source": [
        "df2.groupby('어리목').sum()\n",
        "df2"
      ],
      "execution_count": null,
      "outputs": []
    },
    {
      "cell_type": "code",
      "metadata": {
        "id": "S3xiJEK-ILRk",
        "colab_type": "code",
        "colab": {
          "base_uri": "https://localhost:8080/",
          "height": 53
        },
        "outputId": "ef23ca44-0882-445a-fa12-b29525c79a28"
      },
      "source": [
        "ss = 0\n",
        "for i in df2[\"어리목\"]:\n",
        "  ss+=int(i)\n",
        "print(ss)\n",
        "sum(df2[\"어리목\"])"
      ],
      "execution_count": 24,
      "outputs": [
        {
          "output_type": "stream",
          "text": [
            "1706936\n"
          ],
          "name": "stdout"
        },
        {
          "output_type": "execute_result",
          "data": {
            "text/plain": [
              "1706936"
            ]
          },
          "metadata": {
            "tags": []
          },
          "execution_count": 24
        }
      ]
    },
    {
      "cell_type": "code",
      "metadata": {
        "id": "BR7XOPhAI4-b",
        "colab_type": "code",
        "colab": {}
      },
      "source": [
        "DF2['하루총합'] = 0\n",
        "for i in range(60):\n",
        "  DF2['하루총합'][i] = DF2.loc[i].sum()\n",
        "print(DF2)\n"
      ],
      "execution_count": null,
      "outputs": []
    },
    {
      "cell_type": "code",
      "metadata": {
        "id": "-odSE-eCI6oj",
        "colab_type": "code",
        "colab": {}
      },
      "source": [
        "\n",
        "df2.loc[60] = 0\n",
        "print(df2)"
      ],
      "execution_count": null,
      "outputs": []
    },
    {
      "cell_type": "code",
      "metadata": {
        "id": "0lq44J5qPa0g",
        "colab_type": "code",
        "colab": {}
      },
      "source": [
        "# print(df3)\n",
        "unique_ip = df3['access_ip'].unique()\n",
        "unique_dict = dict.fromkeys(unique_ip)\n",
        "for i in unique_dict.keys():\n",
        "  unique_dict[i] = []\n",
        "print(unique_dict ) "
      ],
      "execution_count": null,
      "outputs": []
    },
    {
      "cell_type": "code",
      "metadata": {
        "id": "exVjI9iZTd9e",
        "colab_type": "code",
        "colab": {}
      },
      "source": [
        "for i in range(len(df3)):\n",
        "  key = df3['access_ip'].iloc[i]\n",
        "  unique_dict[key].append(df3['item_name'].iloc[i])\n",
        "unique_dict\n",
        "# 캐글 타이타닉"
      ],
      "execution_count": null,
      "outputs": []
    },
    {
      "cell_type": "code",
      "metadata": {
        "id": "5Ig9x8dAWifm",
        "colab_type": "code",
        "colab": {}
      },
      "source": [
        ""
      ],
      "execution_count": null,
      "outputs": []
    }
  ]
}